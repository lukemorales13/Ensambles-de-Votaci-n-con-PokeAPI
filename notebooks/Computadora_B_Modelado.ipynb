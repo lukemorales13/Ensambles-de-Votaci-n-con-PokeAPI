{
 "cells": [
  {
   "cell_type": "markdown",
   "id": "fbd71b4a",
   "metadata": {},
   "source": [
    "\n",
    "# Computadora B — Modelado (Lab ML P7: ¡Atrapa el mejor modelo!)\n",
    "\n",
    "Este cuaderno implementa **la parte de modelación** indicada para la Computadora B, siguiendo la guía del laboratorio:\n",
    "- Entrena **modelos base** (no-ensambles) con `scikit-learn`: Regresión Logística, Árbol de Decisión, KNN y SVM.\n",
    "- Implementa **tres votadores desde cero** (sin `VotingClassifier`): **votación dura**, **votación suave** y **votación ponderada** (por exactitud en validación).\n",
    "- Reporta métricas y curvas simples de desempeño.\n",
    "- Genera un **archivo de predicciones** para el conjunto de prueba en el **formato** solicitado.\n"
   ]
  },
  {
   "cell_type": "markdown",
   "id": "a90a5a6a",
   "metadata": {},
   "source": [
    "\n",
    "## 0) Rutas y parámetros principales\n"
   ]
  },
  {
   "cell_type": "code",
   "execution_count": null,
   "id": "32f8223d",
   "metadata": {},
   "outputs": [],
   "source": [
    "from pathlib import Path\n",
    "\n",
    "DATASET_TRAIN_CSV = Path(\"train.csv\")  \n",
    "DATASET_TEST_CSV  = Path(\"test.csv\")   \n",
    "\n",
    "TEAM_NAME  = \"Charmander\"\n",
    "VOTER_NAME = \"VotacionPonderada\"  \n",
    "\n",
    "RANDOM_STATE = 42\n"
   ]
  },
  {
   "cell_type": "code",
   "execution_count": 3,
   "id": "06807d49",
   "metadata": {},
   "outputs": [
    {
     "name": "stderr",
     "output_type": "stream",
     "text": [
      "<>:4: SyntaxWarning: invalid escape sequence '\\d'\n",
      "<>:4: SyntaxWarning: invalid escape sequence '\\d'\n",
      "C:\\Users\\luke2\\AppData\\Local\\Temp\\ipykernel_23468\\3138752179.py:4: SyntaxWarning: invalid escape sequence '\\d'\n",
      "  df = pd.read_csv('..\\data\\dataset.csv', index_col=0)\n"
     ]
    }
   ],
   "source": [
    "import pandas as pd\n",
    "\n",
    "RANDOM_STATE = 42\n",
    "df = pd.read_csv('..\\data\\dataset.csv', index_col=0)"
   ]
  },
  {
   "cell_type": "code",
   "execution_count": 10,
   "id": "dbc9ef16",
   "metadata": {},
   "outputs": [
    {
     "data": {
      "text/html": [
       "<div>\n",
       "<style scoped>\n",
       "    .dataframe tbody tr th:only-of-type {\n",
       "        vertical-align: middle;\n",
       "    }\n",
       "\n",
       "    .dataframe tbody tr th {\n",
       "        vertical-align: top;\n",
       "    }\n",
       "\n",
       "    .dataframe thead th {\n",
       "        text-align: right;\n",
       "    }\n",
       "</style>\n",
       "<table border=\"1\" class=\"dataframe\">\n",
       "  <thead>\n",
       "    <tr style=\"text-align: right;\">\n",
       "      <th></th>\n",
       "      <th>id</th>\n",
       "      <th>name</th>\n",
       "      <th>height</th>\n",
       "      <th>weight</th>\n",
       "      <th>base_experience</th>\n",
       "      <th>hp</th>\n",
       "      <th>attack</th>\n",
       "      <th>defense</th>\n",
       "      <th>special_attack</th>\n",
       "      <th>special_defense</th>\n",
       "      <th>speed</th>\n",
       "      <th>primary_type</th>\n",
       "      <th>secondary_type</th>\n",
       "      <th>num_abilities</th>\n",
       "      <th>abilities</th>\n",
       "      <th>power_score</th>\n",
       "      <th>strong</th>\n",
       "    </tr>\n",
       "  </thead>\n",
       "  <tbody>\n",
       "    <tr>\n",
       "      <th>0</th>\n",
       "      <td>250</td>\n",
       "      <td>ho-oh</td>\n",
       "      <td>38</td>\n",
       "      <td>1990</td>\n",
       "      <td>306</td>\n",
       "      <td>106</td>\n",
       "      <td>130</td>\n",
       "      <td>90</td>\n",
       "      <td>110</td>\n",
       "      <td>154</td>\n",
       "      <td>90</td>\n",
       "      <td>fire</td>\n",
       "      <td>flying</td>\n",
       "      <td>2</td>\n",
       "      <td>pressure, regenerator</td>\n",
       "      <td>680</td>\n",
       "      <td>1</td>\n",
       "    </tr>\n",
       "    <tr>\n",
       "      <th>1</th>\n",
       "      <td>434</td>\n",
       "      <td>stunky</td>\n",
       "      <td>4</td>\n",
       "      <td>192</td>\n",
       "      <td>66</td>\n",
       "      <td>63</td>\n",
       "      <td>63</td>\n",
       "      <td>47</td>\n",
       "      <td>41</td>\n",
       "      <td>41</td>\n",
       "      <td>74</td>\n",
       "      <td>poison</td>\n",
       "      <td>dark</td>\n",
       "      <td>3</td>\n",
       "      <td>stench, aftermath, keen-eye</td>\n",
       "      <td>329</td>\n",
       "      <td>0</td>\n",
       "    </tr>\n",
       "    <tr>\n",
       "      <th>2</th>\n",
       "      <td>20</td>\n",
       "      <td>raticate</td>\n",
       "      <td>7</td>\n",
       "      <td>185</td>\n",
       "      <td>145</td>\n",
       "      <td>55</td>\n",
       "      <td>81</td>\n",
       "      <td>60</td>\n",
       "      <td>50</td>\n",
       "      <td>70</td>\n",
       "      <td>97</td>\n",
       "      <td>normal</td>\n",
       "      <td>NaN</td>\n",
       "      <td>3</td>\n",
       "      <td>run-away, guts, hustle</td>\n",
       "      <td>413</td>\n",
       "      <td>0</td>\n",
       "    </tr>\n",
       "    <tr>\n",
       "      <th>3</th>\n",
       "      <td>323</td>\n",
       "      <td>camerupt</td>\n",
       "      <td>19</td>\n",
       "      <td>2200</td>\n",
       "      <td>161</td>\n",
       "      <td>70</td>\n",
       "      <td>100</td>\n",
       "      <td>70</td>\n",
       "      <td>105</td>\n",
       "      <td>75</td>\n",
       "      <td>40</td>\n",
       "      <td>fire</td>\n",
       "      <td>ground</td>\n",
       "      <td>3</td>\n",
       "      <td>magma-armor, solid-rock, anger-point</td>\n",
       "      <td>460</td>\n",
       "      <td>0</td>\n",
       "    </tr>\n",
       "    <tr>\n",
       "      <th>4</th>\n",
       "      <td>333</td>\n",
       "      <td>swablu</td>\n",
       "      <td>4</td>\n",
       "      <td>12</td>\n",
       "      <td>62</td>\n",
       "      <td>45</td>\n",
       "      <td>40</td>\n",
       "      <td>60</td>\n",
       "      <td>40</td>\n",
       "      <td>75</td>\n",
       "      <td>50</td>\n",
       "      <td>normal</td>\n",
       "      <td>flying</td>\n",
       "      <td>2</td>\n",
       "      <td>natural-cure, cloud-nine</td>\n",
       "      <td>310</td>\n",
       "      <td>0</td>\n",
       "    </tr>\n",
       "  </tbody>\n",
       "</table>\n",
       "</div>"
      ],
      "text/plain": [
       "    id      name  height  weight  base_experience   hp  attack  defense  \\\n",
       "0  250     ho-oh      38    1990              306  106     130       90   \n",
       "1  434    stunky       4     192               66   63      63       47   \n",
       "2   20  raticate       7     185              145   55      81       60   \n",
       "3  323  camerupt      19    2200              161   70     100       70   \n",
       "4  333    swablu       4      12               62   45      40       60   \n",
       "\n",
       "   special_attack  special_defense  speed primary_type secondary_type  \\\n",
       "0             110              154     90         fire         flying   \n",
       "1              41               41     74       poison           dark   \n",
       "2              50               70     97       normal            NaN   \n",
       "3             105               75     40         fire         ground   \n",
       "4              40               75     50       normal         flying   \n",
       "\n",
       "   num_abilities                             abilities  power_score  strong  \n",
       "0              2                 pressure, regenerator          680       1  \n",
       "1              3           stench, aftermath, keen-eye          329       0  \n",
       "2              3                run-away, guts, hustle          413       0  \n",
       "3              3  magma-armor, solid-rock, anger-point          460       0  \n",
       "4              2              natural-cure, cloud-nine          310       0  "
      ]
     },
     "execution_count": 10,
     "metadata": {},
     "output_type": "execute_result"
    }
   ],
   "source": [
    "df.head()"
   ]
  },
  {
   "cell_type": "code",
   "execution_count": null,
   "id": "d5b114b2",
   "metadata": {},
   "outputs": [
    {
     "name": "stdout",
     "output_type": "stream",
     "text": [
      "(400, 16) (100, 16)\n"
     ]
    }
   ],
   "source": [
    "from sklearn.model_selection import train_test_split\n",
    "\n",
    "train, test = train_test_split(df,test_size=0.2, random_state=RANDOM_STATE)\n",
    "print(train.shape, test.shape)\n",
    "\n",
    "train.to_csv('train.csv')\n",
    "test.to_csv('test.csv')"
   ]
  },
  {
   "cell_type": "markdown",
   "id": "652fa57d",
   "metadata": {},
   "source": [
    "\n",
    "## 1) Carga y preparación de datos\n",
    "\n",
    "- Seleccionamos **features permitidos** por la consigna.\n",
    "- Codificamos la **categoría** `primary_type` con One-Hot.\n",
    "- Escalamos las variables numéricas.\n",
    "- Partimos en `train/valid` para estimar pesos del votador ponderado.\n"
   ]
  },
  {
   "cell_type": "code",
   "execution_count": null,
   "id": "6cc32ad8",
   "metadata": {},
   "outputs": [
    {
     "name": "stdout",
     "output_type": "stream",
     "text": [
      "Tamaños -> Train: (320, 4) Valid: (80, 4)\n"
     ]
    }
   ],
   "source": [
    "import pandas as pd\n",
    "import numpy as np\n",
    "\n",
    "from sklearn.model_selection import train_test_split\n",
    "from sklearn.preprocessing import OneHotEncoder, StandardScaler\n",
    "from sklearn.compose import ColumnTransformer\n",
    "from sklearn.pipeline import Pipeline\n",
    "\n",
    "df = pd.read_csv(DATASET_TRAIN_CSV)\n",
    "\n",
    "feature_cols = [\"height\", \"weight\", \"base_experience\", \"primary_type\"]\n",
    "target_col   = \"strong\"\n",
    "\n",
    "missing_cols = [c for c in feature_cols + [target_col] if c not in df.columns]\n",
    "if missing_cols:\n",
    "    raise ValueError(f\"Faltan columnas en el dataset de entrenamiento: {missing_cols}\")\n",
    "\n",
    "X = df[feature_cols].copy()\n",
    "y = df[target_col].astype(int).copy()\n",
    "id_col = \"id\" if \"id\" in df.columns else None\n",
    "\n",
    "num_cols  = [\"height\", \"weight\", \"base_experience\"]\n",
    "cat_cols  = [\"primary_type\"]\n",
    "\n",
    "preprocess = ColumnTransformer(\n",
    "    transformers=[\n",
    "        (\"num\", StandardScaler(), num_cols),\n",
    "        (\"cat\", OneHotEncoder(handle_unknown=\"ignore\"), cat_cols),\n",
    "    ]\n",
    ")\n",
    "\n",
    "X_train, X_valid, y_train, y_valid = train_test_split(\n",
    "    X, y, test_size=0.2, random_state=RANDOM_STATE, stratify=y\n",
    ")\n",
    "\n",
    "print(\"Tamaños -> Train:\", X_train.shape, \"Valid:\", X_valid.shape)\n"
   ]
  },
  {
   "cell_type": "markdown",
   "id": "44db241e",
   "metadata": {},
   "source": [
    "\n",
    "## 2) Modelos base\n",
    "\n",
    "Entrenaremos cuatro modelos individuales (no-ensambles):\n",
    "- **Regresión Logística**\n",
    "- **Árbol de Decisión**\n",
    "- **KNN**\n",
    "- **SVM** (con `probability=True` para **votación suave** y **ponderada**)\n",
    "\n"
   ]
  },
  {
   "cell_type": "code",
   "execution_count": null,
   "id": "de4d23ec",
   "metadata": {},
   "outputs": [
    {
     "name": "stdout",
     "output_type": "stream",
     "text": [
      "Modelos entrenados.\n"
     ]
    }
   ],
   "source": [
    "from sklearn.linear_model import LogisticRegression\n",
    "from sklearn.tree import DecisionTreeClassifier\n",
    "from sklearn.neighbors import KNeighborsClassifier\n",
    "from sklearn.svm import SVC\n",
    "\n",
    "logreg_params = dict(C=1.0, max_iter=200)\n",
    "tree_params   = dict(max_depth=None, min_samples_split=2, min_samples_leaf=1, random_state=RANDOM_STATE)\n",
    "knn_params    = dict(n_neighbors=15, weights=\"distance\") \n",
    "svm_params    = dict(C=1.0, kernel=\"rbf\", probability=True, random_state=RANDOM_STATE)\n",
    "\n",
    "models = {\n",
    "    \"logreg\": Pipeline([(\"prep\", preprocess), (\"clf\", LogisticRegression(**logreg_params))]),\n",
    "    \"tree\":   Pipeline([(\"prep\", preprocess), (\"clf\", DecisionTreeClassifier(**tree_params))]),\n",
    "    \"knn\":    Pipeline([(\"prep\", preprocess), (\"clf\", KNeighborsClassifier(**knn_params))]),\n",
    "    \"svm\":    Pipeline([(\"prep\", preprocess), (\"clf\", SVC(**svm_params))]),\n",
    "}\n",
    "\n",
    "# Entrenamiento\n",
    "for name, pipe in models.items():\n",
    "    pipe.fit(X_train, y_train)\n",
    "print(\"Modelos entrenados.\")\n"
   ]
  },
  {
   "cell_type": "code",
   "execution_count": null,
   "id": "7b0eb5b7",
   "metadata": {},
   "outputs": [
    {
     "data": {
      "text/html": [
       "<div>\n",
       "<style scoped>\n",
       "    .dataframe tbody tr th:only-of-type {\n",
       "        vertical-align: middle;\n",
       "    }\n",
       "\n",
       "    .dataframe tbody tr th {\n",
       "        vertical-align: top;\n",
       "    }\n",
       "\n",
       "    .dataframe thead th {\n",
       "        text-align: right;\n",
       "    }\n",
       "</style>\n",
       "<table border=\"1\" class=\"dataframe\">\n",
       "  <thead>\n",
       "    <tr style=\"text-align: right;\">\n",
       "      <th></th>\n",
       "      <th>model</th>\n",
       "      <th>accuracy</th>\n",
       "      <th>precision</th>\n",
       "      <th>recall</th>\n",
       "      <th>f1</th>\n",
       "    </tr>\n",
       "  </thead>\n",
       "  <tbody>\n",
       "    <tr>\n",
       "      <th>0</th>\n",
       "      <td>tree</td>\n",
       "      <td>0.9375</td>\n",
       "      <td>0.857143</td>\n",
       "      <td>0.90</td>\n",
       "      <td>0.878049</td>\n",
       "    </tr>\n",
       "    <tr>\n",
       "      <th>1</th>\n",
       "      <td>knn</td>\n",
       "      <td>0.9375</td>\n",
       "      <td>0.941176</td>\n",
       "      <td>0.80</td>\n",
       "      <td>0.864865</td>\n",
       "    </tr>\n",
       "    <tr>\n",
       "      <th>2</th>\n",
       "      <td>logreg</td>\n",
       "      <td>0.9250</td>\n",
       "      <td>0.937500</td>\n",
       "      <td>0.75</td>\n",
       "      <td>0.833333</td>\n",
       "    </tr>\n",
       "    <tr>\n",
       "      <th>3</th>\n",
       "      <td>svm</td>\n",
       "      <td>0.9000</td>\n",
       "      <td>0.833333</td>\n",
       "      <td>0.75</td>\n",
       "      <td>0.789474</td>\n",
       "    </tr>\n",
       "  </tbody>\n",
       "</table>\n",
       "</div>"
      ],
      "text/plain": [
       "    model  accuracy  precision  recall        f1\n",
       "0    tree    0.9375   0.857143    0.90  0.878049\n",
       "1     knn    0.9375   0.941176    0.80  0.864865\n",
       "2  logreg    0.9250   0.937500    0.75  0.833333\n",
       "3     svm    0.9000   0.833333    0.75  0.789474"
      ]
     },
     "execution_count": 15,
     "metadata": {},
     "output_type": "execute_result"
    }
   ],
   "source": [
    "from sklearn.metrics import accuracy_score, precision_score, recall_score, f1_score\n",
    "\n",
    "def eval_binary(y_true, y_pred):\n",
    "    return dict(\n",
    "        accuracy = accuracy_score(y_true, y_pred),\n",
    "        precision= precision_score(y_true, y_pred, zero_division=0),\n",
    "        recall   = recall_score(y_true, y_pred, zero_division=0),\n",
    "        f1       = f1_score(y_true, y_pred, zero_division=0),\n",
    "    )\n",
    "\n",
    "import pandas as pd\n",
    "metrics_rows = []\n",
    "preds_valid = {}\n",
    "proba_valid = {}\n",
    "\n",
    "for name, pipe in models.items():\n",
    "    yp = pipe.predict(X_valid)\n",
    "    preds_valid[name] = yp\n",
    "    metrics = eval_binary(y_valid, yp)\n",
    "    metrics_rows.append({\"model\": name, **metrics})\n",
    "    if hasattr(pipe.named_steps[\"clf\"], \"predict_proba\"):\n",
    "        proba_valid[name] = pipe.predict_proba(X_valid)[:, 1]\n",
    "    else:\n",
    "        proba_valid[name] = yp.astype(float)\n",
    "\n",
    "metrics_df = pd.DataFrame(metrics_rows).sort_values(\"accuracy\", ascending=False).reset_index(drop=True)\n",
    "metrics_df\n"
   ]
  },
  {
   "cell_type": "code",
   "execution_count": 26,
   "id": "82bcb5de",
   "metadata": {},
   "outputs": [
    {
     "data": {
      "text/plain": [
       "{'logreg': array([7.20979457e-04, 1.24357870e-01, 9.47829158e-01, 3.65737543e-02,\n",
       "        5.75652522e-03, 2.43347164e-01, 1.43365424e-03, 9.27062182e-04,\n",
       "        1.82271127e-03, 9.76337685e-01, 4.18386008e-01, 2.59328122e-01,\n",
       "        2.11384316e-03, 1.05713991e-03, 7.53854417e-02, 9.00691579e-01,\n",
       "        1.91416548e-01, 4.12233779e-01, 9.96617089e-01, 1.68778133e-03,\n",
       "        1.86642541e-03, 2.38818747e-02, 8.75102636e-01, 1.83359879e-03,\n",
       "        8.47573457e-01, 5.27407725e-03, 1.74219511e-03, 2.49113935e-01,\n",
       "        9.97130983e-02, 1.66990678e-02, 3.78008257e-01, 3.10049933e-01,\n",
       "        5.09621530e-03, 2.03589886e-03, 6.71837274e-01, 1.19464699e-01,\n",
       "        3.29788577e-01, 9.54769838e-01, 2.32769012e-03, 2.93902186e-03,\n",
       "        4.62877817e-01, 9.64176999e-01, 9.78402245e-01, 5.31221113e-03,\n",
       "        9.72036150e-01, 1.95880428e-01, 1.82693935e-01, 5.38329036e-03,\n",
       "        2.25855968e-03, 1.87884492e-03, 2.81557196e-03, 3.82330838e-02,\n",
       "        2.94430892e-03, 5.65372147e-02, 9.99202104e-01, 1.71019332e-01,\n",
       "        3.09273007e-03, 5.45612453e-03, 6.92625438e-02, 2.91950689e-01,\n",
       "        4.56295288e-01, 5.27951468e-03, 2.37236476e-03, 1.28351183e-02,\n",
       "        4.60150031e-01, 3.88832469e-03, 8.82480206e-01, 3.32965968e-01,\n",
       "        3.80359820e-02, 2.87539870e-03, 4.89359525e-03, 2.85073966e-02,\n",
       "        9.87723110e-01, 4.02000242e-02, 8.98294424e-02, 7.87587065e-02,\n",
       "        1.69348271e-03, 9.84135417e-01, 7.34602626e-01, 1.37290725e-03]),\n",
       " 'tree': array([0., 0., 1., 0., 0., 0., 0., 0., 0., 1., 1., 0., 0., 0., 0., 1., 0.,\n",
       "        0., 1., 0., 0., 0., 1., 0., 1., 0., 0., 0., 0., 0., 1., 0., 0., 0.,\n",
       "        1., 0., 0., 1., 0., 0., 1., 1., 1., 0., 1., 0., 0., 0., 0., 0., 0.,\n",
       "        0., 0., 0., 1., 0., 0., 0., 0., 1., 1., 0., 0., 0., 1., 0., 1., 0.,\n",
       "        0., 0., 0., 0., 1., 0., 0., 0., 0., 1., 0., 0.]),\n",
       " 'knn': array([0.        , 0.0859126 , 1.        , 0.05369507, 0.        ,\n",
       "        0.32087965, 0.        , 0.        , 0.        , 0.83855038,\n",
       "        0.61090514, 0.23064261, 0.        , 0.        , 0.08514911,\n",
       "        0.70190592, 0.1344126 , 0.42863514, 1.        , 0.        ,\n",
       "        0.        , 0.09494598, 0.69407036, 0.        , 0.67095968,\n",
       "        0.        , 0.        , 0.24176068, 0.12297884, 0.        ,\n",
       "        0.8718088 , 0.47269651, 0.        , 0.        , 0.59133258,\n",
       "        0.04684512, 0.16520388, 1.        , 0.        , 0.        ,\n",
       "        0.171177  , 1.        , 1.        , 0.        , 0.82922876,\n",
       "        0.31619617, 0.20832655, 0.        , 0.        , 0.        ,\n",
       "        0.        , 0.0524644 , 0.        , 0.0385655 , 0.88082345,\n",
       "        0.10077022, 0.        , 0.        , 0.03104323, 0.47421034,\n",
       "        0.44771032, 0.        , 0.        , 0.        , 0.27743033,\n",
       "        0.        , 0.94672882, 0.28900065, 0.05778828, 0.        ,\n",
       "        0.        , 0.10729738, 0.67771627, 0.0519023 , 0.06794868,\n",
       "        0.        , 0.        , 1.        , 0.46678274, 0.        ]),\n",
       " 'svm': array([0.04067108, 0.08212275, 0.95191179, 0.04656973, 0.01106869,\n",
       "        0.15487676, 0.0374477 , 0.05805719, 0.02243705, 0.95638165,\n",
       "        0.54184089, 0.12667259, 0.05049783, 0.04335965, 0.03427702,\n",
       "        0.91924984, 0.16060004, 0.22544779, 0.99149513, 0.02333867,\n",
       "        0.02229476, 0.05917711, 0.93696145, 0.03071203, 0.93521079,\n",
       "        0.09358404, 0.04771342, 0.35085849, 0.07533714, 0.01727418,\n",
       "        0.25721714, 0.23022277, 0.01001503, 0.02105423, 0.77999809,\n",
       "        0.07066237, 0.29630807, 0.97884989, 0.04766484, 0.01347615,\n",
       "        0.55766121, 0.97662584, 0.98796793, 0.04584739, 0.98093082,\n",
       "        0.13563676, 0.27505779, 0.02579315, 0.02430962, 0.02365495,\n",
       "        0.03479358, 0.02127693, 0.05744267, 0.04729589, 0.90112463,\n",
       "        0.08840849, 0.13329934, 0.02556208, 0.04557913, 0.25356905,\n",
       "        0.34070658, 0.02907209, 0.01798942, 0.0184295 , 0.65510977,\n",
       "        0.03872346, 0.93646931, 0.1680897 , 0.03240865, 0.04950613,\n",
       "        0.07673546, 0.01802155, 0.79894416, 0.02163771, 0.05392656,\n",
       "        0.04524643, 0.02327575, 0.98317849, 0.75876897, 0.03035636])}"
      ]
     },
     "execution_count": 26,
     "metadata": {},
     "output_type": "execute_result"
    }
   ],
   "source": [
    "proba_valid"
   ]
  },
  {
   "cell_type": "markdown",
   "id": "c30cd03f",
   "metadata": {},
   "source": [
    "\n",
    "## 3) Ensambles de votación (desde cero)\n",
    "\n",
    "Se implementan funciones puras para:\n",
    "- **Votación dura**: mayoría sobre predicciones 0/1.\n",
    "- **Votación suave**: promedio de probabilidades `P(y=1|x)` y umbral 0.5.\n",
    "- **Votación ponderada**: promedio ponderado de probabilidades usando pesos ∝ exactitud en validación de cada modelo.\n"
   ]
  },
  {
   "cell_type": "code",
   "execution_count": null,
   "id": "1360654f",
   "metadata": {},
   "outputs": [
    {
     "data": {
      "text/plain": [
       "{'tree': 0.9375, 'knn': 0.9375, 'logreg': 0.925, 'svm': 0.9}"
      ]
     },
     "execution_count": 16,
     "metadata": {},
     "output_type": "execute_result"
    }
   ],
   "source": [
    "import numpy as np\n",
    "\n",
    "def vote_hard(pred_dict):\n",
    "    base = list(pred_dict.values())\n",
    "    stacked = np.vstack(base).astype(int)\n",
    "    votes = stacked.sum(axis=0)\n",
    "    yhat  = (votes > (stacked.shape[0] / 2)).astype(int)\n",
    "    return yhat\n",
    "\n",
    "def vote_soft(proba_dict):\n",
    "    base = list(proba_dict.values())\n",
    "    stacked = np.vstack(base)  \n",
    "    avg = stacked.mean(axis=0)\n",
    "    return (avg >= 0.5).astype(int), avg\n",
    "\n",
    "def vote_weighted(proba_dict, weights):\n",
    "    keys = list(proba_dict.keys())\n",
    "    w = np.array([weights[k] for k in keys], dtype=float)\n",
    "    w = w / (w.sum() + 1e-12)\n",
    "    stacked = np.vstack([proba_dict[k] for k in keys])  \n",
    "    wavg = (w[:, None] * stacked).sum(axis=0)\n",
    "    return (wavg >= 0.5).astype(int), wavg\n",
    "\n",
    "# Pesos proporcionales a la exactitud en validación\n",
    "accs = {row[\"model\"]: row[\"accuracy\"] for _, row in metrics_df.iterrows()}\n",
    "accs\n"
   ]
  },
  {
   "cell_type": "markdown",
   "id": "c929da6a",
   "metadata": {},
   "source": [
    "\n",
    "## 4) Evaluación en validación\n",
    "\n",
    "Se muestran métricas: exactitud, precisión, recall y F1. Además, se grafica la matriz de confusión por votador.\n"
   ]
  },
  {
   "cell_type": "code",
   "execution_count": 24,
   "id": "b9b45769",
   "metadata": {},
   "outputs": [
    {
     "data": {
      "text/plain": [
       "{'logreg': array([0, 0, 1, 0, 0, 0, 0, 0, 0, 1, 0, 0, 0, 0, 0, 1, 0, 0, 1, 0, 0, 0,\n",
       "        1, 0, 1, 0, 0, 0, 0, 0, 0, 0, 0, 0, 1, 0, 0, 1, 0, 0, 0, 1, 1, 0,\n",
       "        1, 0, 0, 0, 0, 0, 0, 0, 0, 0, 1, 0, 0, 0, 0, 0, 0, 0, 0, 0, 0, 0,\n",
       "        1, 0, 0, 0, 0, 0, 1, 0, 0, 0, 0, 1, 1, 0]),\n",
       " 'tree': array([0, 0, 1, 0, 0, 0, 0, 0, 0, 1, 1, 0, 0, 0, 0, 1, 0, 0, 1, 0, 0, 0,\n",
       "        1, 0, 1, 0, 0, 0, 0, 0, 1, 0, 0, 0, 1, 0, 0, 1, 0, 0, 1, 1, 1, 0,\n",
       "        1, 0, 0, 0, 0, 0, 0, 0, 0, 0, 1, 0, 0, 0, 0, 1, 1, 0, 0, 0, 1, 0,\n",
       "        1, 0, 0, 0, 0, 0, 1, 0, 0, 0, 0, 1, 0, 0]),\n",
       " 'knn': array([0, 0, 1, 0, 0, 0, 0, 0, 0, 1, 1, 0, 0, 0, 0, 1, 0, 0, 1, 0, 0, 0,\n",
       "        1, 0, 1, 0, 0, 0, 0, 0, 1, 0, 0, 0, 1, 0, 0, 1, 0, 0, 0, 1, 1, 0,\n",
       "        1, 0, 0, 0, 0, 0, 0, 0, 0, 0, 1, 0, 0, 0, 0, 0, 0, 0, 0, 0, 0, 0,\n",
       "        1, 0, 0, 0, 0, 0, 1, 0, 0, 0, 0, 1, 0, 0]),\n",
       " 'svm': array([0, 0, 1, 0, 0, 0, 0, 0, 0, 1, 0, 0, 0, 0, 0, 1, 0, 0, 1, 0, 0, 0,\n",
       "        1, 0, 1, 0, 0, 0, 0, 0, 0, 0, 0, 0, 1, 0, 0, 1, 0, 0, 1, 1, 1, 0,\n",
       "        1, 0, 0, 0, 0, 0, 0, 0, 0, 0, 1, 0, 0, 0, 0, 0, 0, 0, 0, 0, 1, 0,\n",
       "        1, 0, 0, 0, 0, 0, 1, 0, 0, 0, 0, 1, 1, 0])}"
      ]
     },
     "execution_count": 24,
     "metadata": {},
     "output_type": "execute_result"
    }
   ],
   "source": [
    "preds_valid"
   ]
  },
  {
   "cell_type": "code",
   "execution_count": null,
   "id": "846e6cdd",
   "metadata": {},
   "outputs": [
    {
     "data": {
      "text/markdown": [
       "### Métricas de votadores (validación)"
      ],
      "text/plain": [
       "<IPython.core.display.Markdown object>"
      ]
     },
     "metadata": {},
     "output_type": "display_data"
    },
    {
     "data": {
      "text/html": [
       "<div>\n",
       "<style scoped>\n",
       "    .dataframe tbody tr th:only-of-type {\n",
       "        vertical-align: middle;\n",
       "    }\n",
       "\n",
       "    .dataframe tbody tr th {\n",
       "        vertical-align: top;\n",
       "    }\n",
       "\n",
       "    .dataframe thead th {\n",
       "        text-align: right;\n",
       "    }\n",
       "</style>\n",
       "<table border=\"1\" class=\"dataframe\">\n",
       "  <thead>\n",
       "    <tr style=\"text-align: right;\">\n",
       "      <th></th>\n",
       "      <th>voter</th>\n",
       "      <th>accuracy</th>\n",
       "      <th>precision</th>\n",
       "      <th>recall</th>\n",
       "      <th>f1</th>\n",
       "    </tr>\n",
       "  </thead>\n",
       "  <tbody>\n",
       "    <tr>\n",
       "      <th>0</th>\n",
       "      <td>soft</td>\n",
       "      <td>0.9375</td>\n",
       "      <td>0.857143</td>\n",
       "      <td>0.9</td>\n",
       "      <td>0.878049</td>\n",
       "    </tr>\n",
       "    <tr>\n",
       "      <th>1</th>\n",
       "      <td>weighted</td>\n",
       "      <td>0.9375</td>\n",
       "      <td>0.857143</td>\n",
       "      <td>0.9</td>\n",
       "      <td>0.878049</td>\n",
       "    </tr>\n",
       "    <tr>\n",
       "      <th>2</th>\n",
       "      <td>hard</td>\n",
       "      <td>0.9125</td>\n",
       "      <td>0.933333</td>\n",
       "      <td>0.7</td>\n",
       "      <td>0.800000</td>\n",
       "    </tr>\n",
       "  </tbody>\n",
       "</table>\n",
       "</div>"
      ],
      "text/plain": [
       "      voter  accuracy  precision  recall        f1\n",
       "0      soft    0.9375   0.857143     0.9  0.878049\n",
       "1  weighted    0.9375   0.857143     0.9  0.878049\n",
       "2      hard    0.9125   0.933333     0.7  0.800000"
      ]
     },
     "metadata": {},
     "output_type": "display_data"
    },
    {
     "data": {
      "text/plain": [
       "<Figure size 640x480 with 0 Axes>"
      ]
     },
     "metadata": {},
     "output_type": "display_data"
    },
    {
     "data": {
      "image/png": "[encoded data removed]",
      "text/plain": [
       "<Figure size 640x480 with 1 Axes>"
      ]
     },
     "metadata": {},
     "output_type": "display_data"
    },
    {
     "data": {
      "text/plain": [
       "<Figure size 640x480 with 0 Axes>"
      ]
     },
     "metadata": {},
     "output_type": "display_data"
    },
    {
     "data": {
      "image/png": "[encoded data removed]",
      "text/plain": [
       "<Figure size 640x480 with 1 Axes>"
      ]
     },
     "metadata": {},
     "output_type": "display_data"
    },
    {
     "data": {
      "text/plain": [
       "<Figure size 640x480 with 0 Axes>"
      ]
     },
     "metadata": {},
     "output_type": "display_data"
    },
    {
     "data": {
      "image/png": "[encoded data removed]",
      "text/plain": [
       "<Figure size 640x480 with 1 Axes>"
      ]
     },
     "metadata": {},
     "output_type": "display_data"
    },
    {
     "data": {
      "text/html": [
       "<div>\n",
       "<style scoped>\n",
       "    .dataframe tbody tr th:only-of-type {\n",
       "        vertical-align: middle;\n",
       "    }\n",
       "\n",
       "    .dataframe tbody tr th {\n",
       "        vertical-align: top;\n",
       "    }\n",
       "\n",
       "    .dataframe thead th {\n",
       "        text-align: right;\n",
       "    }\n",
       "</style>\n",
       "<table border=\"1\" class=\"dataframe\">\n",
       "  <thead>\n",
       "    <tr style=\"text-align: right;\">\n",
       "      <th></th>\n",
       "      <th>voter</th>\n",
       "      <th>accuracy</th>\n",
       "      <th>precision</th>\n",
       "      <th>recall</th>\n",
       "      <th>f1</th>\n",
       "    </tr>\n",
       "  </thead>\n",
       "  <tbody>\n",
       "    <tr>\n",
       "      <th>0</th>\n",
       "      <td>soft</td>\n",
       "      <td>0.9375</td>\n",
       "      <td>0.857143</td>\n",
       "      <td>0.9</td>\n",
       "      <td>0.878049</td>\n",
       "    </tr>\n",
       "    <tr>\n",
       "      <th>1</th>\n",
       "      <td>weighted</td>\n",
       "      <td>0.9375</td>\n",
       "      <td>0.857143</td>\n",
       "      <td>0.9</td>\n",
       "      <td>0.878049</td>\n",
       "    </tr>\n",
       "    <tr>\n",
       "      <th>2</th>\n",
       "      <td>hard</td>\n",
       "      <td>0.9125</td>\n",
       "      <td>0.933333</td>\n",
       "      <td>0.7</td>\n",
       "      <td>0.800000</td>\n",
       "    </tr>\n",
       "  </tbody>\n",
       "</table>\n",
       "</div>"
      ],
      "text/plain": [
       "      voter  accuracy  precision  recall        f1\n",
       "0      soft    0.9375   0.857143     0.9  0.878049\n",
       "1  weighted    0.9375   0.857143     0.9  0.878049\n",
       "2      hard    0.9125   0.933333     0.7  0.800000"
      ]
     },
     "execution_count": 34,
     "metadata": {},
     "output_type": "execute_result"
    }
   ],
   "source": [
    "from sklearn.metrics import confusion_matrix, ConfusionMatrixDisplay\n",
    "import matplotlib.pyplot as plt\n",
    "\n",
    "yhat_hard = vote_hard(preds_valid)\n",
    "m_hard = eval_binary(y_valid, yhat_hard)\n",
    "\n",
    "yhat_soft, soft_scores = vote_soft(proba_valid)\n",
    "m_soft = eval_binary(y_valid, yhat_soft)\n",
    "\n",
    "yhat_w, w_scores = vote_weighted(proba_valid, accs)\n",
    "m_w = eval_binary(y_valid, yhat_w)\n",
    "\n",
    "ens_metrics = pd.DataFrame([\n",
    "    {\"voter\":\"hard\", **m_hard},\n",
    "    {\"voter\":\"soft\", **m_soft},\n",
    "    {\"voter\":\"weighted\", **m_w},\n",
    "]).sort_values(\"accuracy\", ascending=False).reset_index(drop=True)\n",
    "\n",
    "from IPython.display import display, Markdown\n",
    "\n",
    "display(Markdown(\"### Métricas de votadores (validación)\"))\n",
    "display(ens_metrics)\n",
    "\n",
    "\n",
    "for voter_name, yhat in [(\"hard\", yhat_hard), (\"soft\", yhat_soft), (\"weighted\", yhat_w)]:\n",
    "    cm = confusion_matrix(y_valid, yhat)\n",
    "    disp = ConfusionMatrixDisplay(confusion_matrix=cm)\n",
    "    plt.figure()\n",
    "    disp.plot(values_format='d', colorbar=False)  \n",
    "    plt.title(f\"Matriz de confusión — {voter_name}\")\n",
    "    plt.show()\n",
    "\n",
    "ens_metrics\n"
   ]
  },
  {
   "cell_type": "code",
   "execution_count": 35,
   "id": "d91b6872",
   "metadata": {},
   "outputs": [
    {
     "data": {
      "text/html": [
       "<div>\n",
       "<style scoped>\n",
       "    .dataframe tbody tr th:only-of-type {\n",
       "        vertical-align: middle;\n",
       "    }\n",
       "\n",
       "    .dataframe tbody tr th {\n",
       "        vertical-align: top;\n",
       "    }\n",
       "\n",
       "    .dataframe thead th {\n",
       "        text-align: right;\n",
       "    }\n",
       "</style>\n",
       "<table border=\"1\" class=\"dataframe\">\n",
       "  <thead>\n",
       "    <tr style=\"text-align: right;\">\n",
       "      <th></th>\n",
       "      <th>voter</th>\n",
       "      <th>accuracy</th>\n",
       "      <th>precision</th>\n",
       "      <th>recall</th>\n",
       "      <th>f1</th>\n",
       "    </tr>\n",
       "  </thead>\n",
       "  <tbody>\n",
       "    <tr>\n",
       "      <th>0</th>\n",
       "      <td>soft</td>\n",
       "      <td>0.9375</td>\n",
       "      <td>0.857143</td>\n",
       "      <td>0.9</td>\n",
       "      <td>0.878049</td>\n",
       "    </tr>\n",
       "    <tr>\n",
       "      <th>1</th>\n",
       "      <td>weighted</td>\n",
       "      <td>0.9375</td>\n",
       "      <td>0.857143</td>\n",
       "      <td>0.9</td>\n",
       "      <td>0.878049</td>\n",
       "    </tr>\n",
       "    <tr>\n",
       "      <th>2</th>\n",
       "      <td>hard</td>\n",
       "      <td>0.9125</td>\n",
       "      <td>0.933333</td>\n",
       "      <td>0.7</td>\n",
       "      <td>0.800000</td>\n",
       "    </tr>\n",
       "  </tbody>\n",
       "</table>\n",
       "</div>"
      ],
      "text/plain": [
       "      voter  accuracy  precision  recall        f1\n",
       "0      soft    0.9375   0.857143     0.9  0.878049\n",
       "1  weighted    0.9375   0.857143     0.9  0.878049\n",
       "2      hard    0.9125   0.933333     0.7  0.800000"
      ]
     },
     "execution_count": 35,
     "metadata": {},
     "output_type": "execute_result"
    }
   ],
   "source": [
    "ens_metrics"
   ]
  },
  {
   "cell_type": "code",
   "execution_count": 27,
   "id": "4d7d005f",
   "metadata": {},
   "outputs": [
    {
     "name": "stdout",
     "output_type": "stream",
     "text": [
      "      voter  accuracy  precision  recall        f1\n",
      "0      soft    0.9375   0.857143     0.9  0.878049\n",
      "1  weighted    0.9375   0.857143     0.9  0.878049\n",
      "2      hard    0.9125   0.933333     0.7  0.800000\n"
     ]
    }
   ],
   "source": [
    "print(ens_metrics)"
   ]
  },
  {
   "cell_type": "markdown",
   "id": "fcdd641b",
   "metadata": {},
   "source": [
    "\n",
    "## 5) Reentrenar en todo el set de entrenamiento\n",
    "\n",
    "Tras seleccionar el votador final, reentrenamos cada modelo base en **todo el train** (train+valid) para aprovechar al máximo los datos.\n"
   ]
  },
  {
   "cell_type": "code",
   "execution_count": null,
   "id": "53b2a55b",
   "metadata": {},
   "outputs": [
    {
     "name": "stdout",
     "output_type": "stream",
     "text": [
      "Modelos reentrenados en todo el dataset de entrenamiento.\n"
     ]
    }
   ],
   "source": [
    "for name, pipe in models.items():\n",
    "    pipe.fit(X, y)\n",
    "print(\"Modelos reentrenados en todo el dataset de entrenamiento.\")\n"
   ]
  },
  {
   "cell_type": "markdown",
   "id": "8a2f99dc",
   "metadata": {},
   "source": [
    "\n",
    "## 6) Predicción sobre el test set y archivo de competencia\n",
    "\n",
    "Generamos el archivo:  \n",
    "`id,y_pred,EquipoNombre,VotacionTipo` en la primera fila y las filas siguientes solo con `id,y_pred`.\n",
    "\n",
    "Cambia `TEAM_NAME` y `VOTER_NAME` según tu equipo y tu votador elegido.\n"
   ]
  },
  {
   "cell_type": "code",
   "execution_count": null,
   "id": "24d14ca8",
   "metadata": {},
   "outputs": [
    {
     "name": "stdout",
     "output_type": "stream",
     "text": [
      "Archivo de competencia escrito en: predicciones_competencia.csv\n"
     ]
    },
    {
     "data": {
      "text/plain": [
       "WindowsPath('predicciones_competencia.csv')"
      ]
     },
     "execution_count": 22,
     "metadata": {},
     "output_type": "execute_result"
    }
   ],
   "source": [
    "test_df = pd.read_csv(DATASET_TEST_CSV)\n",
    "\n",
    "test_id_col = \"id\" if \"id\" in test_df.columns else None\n",
    "if test_id_col is None:\n",
    "    test_ids = np.arange(len(test_df))\n",
    "else:\n",
    "    test_ids = test_df[test_id_col].values\n",
    "\n",
    "missing_cols_test = [c for c in [\"height\",\"weight\",\"base_experience\",\"primary_type\"] if c not in test_df.columns]\n",
    "if missing_cols_test:\n",
    "    raise ValueError(f\"Faltan columnas en el dataset de test: {missing_cols_test}\")\n",
    "\n",
    "X_test = test_df[[\"height\",\"weight\",\"base_experience\",\"primary_type\"]].copy()\n",
    "\n",
    "preds_test = {}\n",
    "proba_test = {}\n",
    "for name, pipe in models.items():\n",
    "    yp = pipe.predict(X_test)\n",
    "    preds_test[name] = yp\n",
    "    if hasattr(pipe.named_steps[\"clf\"], \"predict_proba\"):\n",
    "        proba_test[name] = pipe.predict_proba(X_test)[:, 1]\n",
    "    else:\n",
    "        proba_test[name] = yp.astype(float)\n",
    "\n",
    "VOTER_NAME = VOTER_NAME.strip()\n",
    "\n",
    "if VOTER_NAME.lower() == \"votaciondura\":\n",
    "    y_pred_final = vote_hard(preds_test)\n",
    "elif VOTER_NAME.lower() == \"votacionsuave\":\n",
    "    y_pred_final, _ = vote_soft(proba_test)\n",
    "elif VOTER_NAME.lower() == \"votacionponderada\":\n",
    "    y_pred_final, _ = vote_weighted(proba_test, accs)\n",
    "else:\n",
    "    raise ValueError(\"VOTER_NAME inválido. Usa: VotacionDura, VotacionSuave o VotacionPonderada\")\n",
    "\n",
    "# Archivo de competencia\n",
    "import csv\n",
    "out_path = Path(\"predicciones_competencia.csv\")\n",
    "with open(out_path, \"w\", newline=\"\") as f:\n",
    "    writer = csv.writer(f)\n",
    "    writer.writerow([\"id\", \"y_pred\", TEAM_NAME, VOTER_NAME])\n",
    "    for i, (rid, yhat) in enumerate(zip(test_ids, y_pred_final)):\n",
    "        writer.writerow([rid, int(yhat), \"\", \"\"])\n",
    "\n",
    "print(f\"Archivo de competencia escrito en: {out_path}\")\n",
    "out_path\n"
   ]
  },
  {
   "cell_type": "code",
   "execution_count": 23,
   "id": "0796ede1",
   "metadata": {},
   "outputs": [
    {
     "data": {
      "text/html": [
       "<div>\n",
       "<style scoped>\n",
       "    .dataframe tbody tr th:only-of-type {\n",
       "        vertical-align: middle;\n",
       "    }\n",
       "\n",
       "    .dataframe tbody tr th {\n",
       "        vertical-align: top;\n",
       "    }\n",
       "\n",
       "    .dataframe thead th {\n",
       "        text-align: right;\n",
       "    }\n",
       "</style>\n",
       "<table border=\"1\" class=\"dataframe\">\n",
       "  <thead>\n",
       "    <tr style=\"text-align: right;\">\n",
       "      <th></th>\n",
       "      <th>id</th>\n",
       "      <th>y_pred</th>\n",
       "      <th>Charmander</th>\n",
       "      <th>VotacionPonderada</th>\n",
       "    </tr>\n",
       "  </thead>\n",
       "  <tbody>\n",
       "    <tr>\n",
       "      <th>0</th>\n",
       "      <td>362</td>\n",
       "      <td>1</td>\n",
       "      <td>NaN</td>\n",
       "      <td>NaN</td>\n",
       "    </tr>\n",
       "    <tr>\n",
       "      <th>1</th>\n",
       "      <td>74</td>\n",
       "      <td>0</td>\n",
       "      <td>NaN</td>\n",
       "      <td>NaN</td>\n",
       "    </tr>\n",
       "    <tr>\n",
       "      <th>2</th>\n",
       "      <td>375</td>\n",
       "      <td>0</td>\n",
       "      <td>NaN</td>\n",
       "      <td>NaN</td>\n",
       "    </tr>\n",
       "    <tr>\n",
       "      <th>3</th>\n",
       "      <td>156</td>\n",
       "      <td>0</td>\n",
       "      <td>NaN</td>\n",
       "      <td>NaN</td>\n",
       "    </tr>\n",
       "    <tr>\n",
       "      <th>4</th>\n",
       "      <td>105</td>\n",
       "      <td>0</td>\n",
       "      <td>NaN</td>\n",
       "      <td>NaN</td>\n",
       "    </tr>\n",
       "  </tbody>\n",
       "</table>\n",
       "</div>"
      ],
      "text/plain": [
       "    id  y_pred  Charmander  VotacionPonderada\n",
       "0  362       1         NaN                NaN\n",
       "1   74       0         NaN                NaN\n",
       "2  375       0         NaN                NaN\n",
       "3  156       0         NaN                NaN\n",
       "4  105       0         NaN                NaN"
      ]
     },
     "execution_count": 23,
     "metadata": {},
     "output_type": "execute_result"
    }
   ],
   "source": [
    "output = pd.read_csv(\"predicciones_competencia.csv\")\n",
    "output.head()"
   ]
  }
 ],
 "metadata": {
  "kernelspec": {
   "display_name": "env (3.12.1)",
   "language": "python",
   "name": "python3"
  },
  "language_info": {
   "codemirror_mode": {
    "name": "ipython",
    "version": 3
   },
   "file_extension": ".py",
   "mimetype": "text/x-python",
   "name": "python",
   "nbconvert_exporter": "python",
   "pygments_lexer": "ipython3",
   "version": "3.12.1"
  }
 },
 "nbformat": 4,
 "nbformat_minor": 5
}
