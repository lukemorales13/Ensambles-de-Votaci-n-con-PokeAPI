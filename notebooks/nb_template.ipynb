{
 "cells": [
  {
   "cell_type": "markdown",
   "id": "8a3eb214",
   "metadata": {},
   "source": [
    "# Laboratorio 7: Poke-ensambles\n",
    "\n",
    "**Duración:** 2 horas  \n",
    "**Formato:** Competencia por equipos con rotaciones y\n",
    "kahoots Pokemon  \n",
    "**Repositorio base:** [_link al repo oficial_](https://github.com/JAlbertoAlonso/poke-ensambles/tree/main)\n",
    "\n",
    "---\n",
    "\n",
    "## Portada del equipo\n",
    "\n",
    "**Integrantes:**\n",
    "- Luis Enrique Morales Flores (lukemorales13)\n",
    "- Emil Ehecatl Sánchez Olsen (Emilehecatlsanchez)\n",
    "- Fabián Herrera Barrón (FabianHeBa)\n",
    "- Vania Janet Raya Rios (Vania-Janet)\n",
    "\n",
    "**Repositorio del equipo:**  \n",
    "<https://github.com/lukemorales13/Ensambles-de-Votaci-n-con-PokeAPI>\n",
    "\n",
    "**Fecha de entrega:**  \n",
    "25/10/2025"
   ]
  },
  {
   "cell_type": "markdown",
   "id": "4a961863",
   "metadata": {},
   "source": [
    "## Elemento 1 - Construcción del dataset (Infraestructura)"
   ]
  },
  {
   "cell_type": "markdown",
   "id": "b343de10",
   "metadata": {},
   "source": []
  },
  {
   "cell_type": "code",
   "execution_count": null,
   "id": "2cd1827b",
   "metadata": {},
   "outputs": [],
   "source": []
  },
  {
   "cell_type": "markdown",
   "id": "fbd71b4a",
   "metadata": {},
   "source": [
    "## Elemento 2 - Entrenamiento de modelos base (Modelado)\n",
    "\n",
    "Este esta parte se implementa **la parte de modelación** indicada para la Computadora B, siguiendo la guía del laboratorio:\n",
    "- Entrena **modelos base** (no-ensambles) con `scikit-learn`: Regresión Logística, Árbol de Decisión, KNN y SVM.\n"
   ]
  },
  {
   "cell_type": "markdown",
   "id": "a90a5a6a",
   "metadata": {},
   "source": [
    "\n",
    "### Rutas y parámetros principales\n"
   ]
  },
  {
   "cell_type": "code",
   "execution_count": 2,
   "id": "32f8223d",
   "metadata": {},
   "outputs": [],
   "source": [
    "from pathlib import Path\n",
    "\n",
    "DATASET_TRAIN_CSV = Path(r\"..\\data\\dataset.csv\")  \n",
    "DATASET_TEST_CSV  = Path(r\"..\\data\\testset.csv\")   \n",
    "\n",
    "TEAM_NAME  = \"Charmander\"\n",
    "VOTER_NAME = \"VotacionPonderada\"  \n",
    "\n",
    "RANDOM_STATE = 42\n"
   ]
  },
  {
   "cell_type": "markdown",
   "id": "652fa57d",
   "metadata": {},
   "source": [
    "\n",
    "## Carga y preparación de datos\n",
    "\n",
    "- Seleccionamos las **features permitidos**.\n",
    "- Codificamos la **categoría** `primary_type` con One-Hot.\n",
    "- Escalamos las variables numéricas.\n",
    "- Partimos en `train/valid` para estimar pesos del votador ponderado.\n"
   ]
  },
  {
   "cell_type": "code",
   "execution_count": 3,
   "id": "6cc32ad8",
   "metadata": {},
   "outputs": [
    {
     "name": "stdout",
     "output_type": "stream",
     "text": [
      "Tamaños -> Train: (400, 4) Valid: (100, 4)\n"
     ]
    }
   ],
   "source": [
    "import pandas as pd\n",
    "import numpy as np\n",
    "\n",
    "from sklearn.model_selection import train_test_split\n",
    "from sklearn.preprocessing import OneHotEncoder, StandardScaler\n",
    "from sklearn.compose import ColumnTransformer\n",
    "from sklearn.pipeline import Pipeline\n",
    "\n",
    "df = pd.read_csv(DATASET_TRAIN_CSV)\n",
    "\n",
    "feature_cols = [\"height\", \"weight\", \"base_experience\", \"primary_type\"]\n",
    "target_col   = \"strong\"\n",
    "\n",
    "missing_cols = [c for c in feature_cols + [target_col] if c not in df.columns]\n",
    "if missing_cols:\n",
    "    raise ValueError(f\"Faltan columnas en el dataset de entrenamiento: {missing_cols}\")\n",
    "\n",
    "X = df[feature_cols].copy()\n",
    "y = df[target_col].astype(int).copy()\n",
    "id_col = \"id\" if \"id\" in df.columns else None\n",
    "\n",
    "num_cols  = [\"height\", \"weight\", \"base_experience\"]\n",
    "cat_cols  = [\"primary_type\"]\n",
    "\n",
    "preprocess = ColumnTransformer(\n",
    "    transformers=[\n",
    "        (\"num\", StandardScaler(), num_cols),\n",
    "        (\"cat\", OneHotEncoder(handle_unknown=\"ignore\"), cat_cols),\n",
    "    ]\n",
    ")\n",
    "\n",
    "X_train, X_valid, y_train, y_valid = train_test_split(\n",
    "    X, y, test_size=0.2, random_state=RANDOM_STATE, stratify=y\n",
    ")\n",
    "\n",
    "print(\"Tamaños -> Train:\", X_train.shape, \"Valid:\", X_valid.shape)\n"
   ]
  },
  {
   "cell_type": "markdown",
   "id": "44db241e",
   "metadata": {},
   "source": [
    "\n",
    "## 2) Modelos base\n",
    "\n",
    "Entrenaremos cuatro modelos individuales (no-ensambles):\n",
    "- **Regresión Logística**\n",
    "- **Árbol de Decisión**\n",
    "- **KNN**\n",
    "- **SVM** (con `probability=True` para **votación suave** y **ponderada**)\n",
    "\n"
   ]
  },
  {
   "cell_type": "code",
   "execution_count": 4,
   "id": "de4d23ec",
   "metadata": {},
   "outputs": [
    {
     "name": "stdout",
     "output_type": "stream",
     "text": [
      "Modelos entrenados.\n"
     ]
    }
   ],
   "source": [
    "from sklearn.linear_model import LogisticRegression\n",
    "from sklearn.tree import DecisionTreeClassifier\n",
    "from sklearn.neighbors import KNeighborsClassifier\n",
    "from sklearn.svm import SVC\n",
    "\n",
    "logreg_params = dict(C=1.0, max_iter=200)\n",
    "tree_params   = dict(max_depth=None, min_samples_split=2, min_samples_leaf=1, random_state=RANDOM_STATE)\n",
    "knn_params    = dict(n_neighbors=15, weights=\"distance\") \n",
    "svm_params    = dict(C=1.0, kernel=\"rbf\", probability=True, random_state=RANDOM_STATE)\n",
    "\n",
    "models = {\n",
    "    \"logreg\": Pipeline([(\"prep\", preprocess), (\"clf\", LogisticRegression(**logreg_params))]),\n",
    "    \"tree\":   Pipeline([(\"prep\", preprocess), (\"clf\", DecisionTreeClassifier(**tree_params))]),\n",
    "    \"knn\":    Pipeline([(\"prep\", preprocess), (\"clf\", KNeighborsClassifier(**knn_params))]),\n",
    "    \"svm\":    Pipeline([(\"prep\", preprocess), (\"clf\", SVC(**svm_params))]),\n",
    "}\n",
    "\n",
    "# Entrenamiento\n",
    "for name, pipe in models.items():\n",
    "    pipe.fit(X_train, y_train)\n",
    "print(\"Modelos entrenados.\")\n"
   ]
  },
  {
   "cell_type": "code",
   "execution_count": 14,
   "id": "7b0eb5b7",
   "metadata": {},
   "outputs": [
    {
     "data": {
      "text/html": [
       "<div>\n",
       "<style scoped>\n",
       "    .dataframe tbody tr th:only-of-type {\n",
       "        vertical-align: middle;\n",
       "    }\n",
       "\n",
       "    .dataframe tbody tr th {\n",
       "        vertical-align: top;\n",
       "    }\n",
       "\n",
       "    .dataframe thead th {\n",
       "        text-align: right;\n",
       "    }\n",
       "</style>\n",
       "<table border=\"1\" class=\"dataframe\">\n",
       "  <thead>\n",
       "    <tr style=\"text-align: right;\">\n",
       "      <th></th>\n",
       "      <th>model</th>\n",
       "      <th>accuracy</th>\n",
       "      <th>precision</th>\n",
       "      <th>recall</th>\n",
       "      <th>f1</th>\n",
       "    </tr>\n",
       "  </thead>\n",
       "  <tbody>\n",
       "    <tr>\n",
       "      <th>0</th>\n",
       "      <td>tree</td>\n",
       "      <td>1.00</td>\n",
       "      <td>1.0</td>\n",
       "      <td>1.00</td>\n",
       "      <td>1.000000</td>\n",
       "    </tr>\n",
       "    <tr>\n",
       "      <th>1</th>\n",
       "      <td>knn</td>\n",
       "      <td>1.00</td>\n",
       "      <td>1.0</td>\n",
       "      <td>1.00</td>\n",
       "      <td>1.000000</td>\n",
       "    </tr>\n",
       "    <tr>\n",
       "      <th>2</th>\n",
       "      <td>svm</td>\n",
       "      <td>0.93</td>\n",
       "      <td>1.0</td>\n",
       "      <td>0.72</td>\n",
       "      <td>0.837209</td>\n",
       "    </tr>\n",
       "    <tr>\n",
       "      <th>3</th>\n",
       "      <td>logreg</td>\n",
       "      <td>0.91</td>\n",
       "      <td>0.9</td>\n",
       "      <td>0.72</td>\n",
       "      <td>0.800000</td>\n",
       "    </tr>\n",
       "  </tbody>\n",
       "</table>\n",
       "</div>"
      ],
      "text/plain": [
       "    model  accuracy  precision  recall        f1\n",
       "0    tree      1.00        1.0    1.00  1.000000\n",
       "1     knn      1.00        1.0    1.00  1.000000\n",
       "2     svm      0.93        1.0    0.72  0.837209\n",
       "3  logreg      0.91        0.9    0.72  0.800000"
      ]
     },
     "execution_count": 14,
     "metadata": {},
     "output_type": "execute_result"
    }
   ],
   "source": [
    "from sklearn.metrics import accuracy_score, precision_score, recall_score, f1_score\n",
    "\n",
    "def eval_binary(y_true, y_pred):\n",
    "    return dict(\n",
    "        accuracy = accuracy_score(y_true, y_pred),\n",
    "        precision= precision_score(y_true, y_pred, zero_division=0),\n",
    "        recall   = recall_score(y_true, y_pred, zero_division=0),\n",
    "        f1       = f1_score(y_true, y_pred, zero_division=0),\n",
    "    )\n",
    "\n",
    "import pandas as pd\n",
    "metrics_rows = []\n",
    "preds_valid = {}\n",
    "proba_valid = {}\n",
    "\n",
    "for name, pipe in models.items():\n",
    "    yp = pipe.predict(X_valid)\n",
    "    preds_valid[name] = yp\n",
    "    metrics = eval_binary(y_valid, yp)\n",
    "    metrics_rows.append({\"model\": name, **metrics})\n",
    "    if hasattr(pipe.named_steps[\"clf\"], \"predict_proba\"):\n",
    "        proba_valid[name] = pipe.predict_proba(X_valid)[:, 1]\n",
    "    else:\n",
    "        proba_valid[name] = yp.astype(float)\n",
    "\n",
    "metrics_df = pd.DataFrame(metrics_rows).sort_values(\"accuracy\", ascending=False).reset_index(drop=True)\n",
    "metrics_df\n"
   ]
  },
  {
   "cell_type": "code",
   "execution_count": 6,
   "id": "82bcb5de",
   "metadata": {},
   "outputs": [
    {
     "data": {
      "text/plain": [
       "{'logreg': array([3.67930033e-01, 8.68789639e-01, 2.23819691e-01, 6.43891519e-04,\n",
       "        3.69865874e-02, 1.65558999e-01, 4.08729108e-01, 2.34567737e-03,\n",
       "        1.04301696e-01, 1.02878473e-03, 4.23293008e-01, 5.56541383e-01,\n",
       "        1.60856453e-01, 9.96171444e-01, 2.48848674e-01, 8.88577687e-01,\n",
       "        1.22804167e-02, 9.99420411e-01, 1.48770573e-01, 2.34793854e-03,\n",
       "        6.86442238e-03, 5.98102703e-03, 3.57607250e-03, 3.44382052e-01,\n",
       "        3.33721863e-02, 1.08331064e-01, 4.20928307e-01, 8.29520366e-02,\n",
       "        3.42580103e-01, 9.98173786e-01, 6.61954052e-02, 1.11578305e-01,\n",
       "        3.86245679e-02, 1.52157681e-03, 1.68951102e-03, 3.52243596e-02,\n",
       "        3.33352111e-04, 8.44973485e-02, 1.42649773e-03, 1.13590840e-01,\n",
       "        9.32258858e-01, 4.11235506e-03, 7.08685817e-01, 1.38314933e-01,\n",
       "        7.06029269e-02, 1.19170294e-01, 1.92503438e-01, 6.21603022e-01,\n",
       "        1.05191556e-03, 6.22878133e-02, 1.30107392e-03, 2.35624985e-01,\n",
       "        9.99999880e-01, 9.46866124e-01, 1.15870629e-03, 2.79833977e-01,\n",
       "        3.91256806e-01, 8.86196337e-04, 4.00728009e-02, 1.47140184e-01,\n",
       "        3.39617305e-03, 1.66039958e-02, 2.90840104e-02, 9.26701835e-01,\n",
       "        3.44093976e-01, 8.00129087e-02, 1.12795573e-01, 6.31623939e-01,\n",
       "        9.00076759e-01, 4.27936620e-01, 2.56424103e-03, 9.28201124e-01,\n",
       "        5.10346801e-04, 8.84352798e-01, 5.93328321e-01, 3.33715404e-02,\n",
       "        1.95481279e-01, 1.21750176e-03, 3.32242807e-03, 1.91240064e-03,\n",
       "        6.31018694e-01, 1.72879482e-03, 9.99101751e-01, 2.38844947e-03,\n",
       "        2.35932811e-03, 9.31222165e-02, 2.67726279e-01, 2.19852982e-01,\n",
       "        4.63093992e-02, 2.18373092e-03, 3.38128274e-03, 6.33871376e-04,\n",
       "        3.00034633e-03, 8.10091059e-01, 7.88359022e-04, 3.16606713e-01,\n",
       "        1.61236776e-01, 1.44014501e-02, 1.08453753e-01, 2.69769013e-01]),\n",
       " 'tree': array([0., 1., 0., 0., 0., 0., 1., 0., 0., 0., 1., 1., 0., 1., 0., 1., 0.,\n",
       "        1., 0., 0., 0., 0., 0., 0., 0., 0., 1., 0., 1., 1., 0., 0., 0., 0.,\n",
       "        0., 0., 0., 0., 0., 0., 1., 0., 1., 0., 0., 0., 0., 1., 0., 0., 0.,\n",
       "        0., 0., 1., 0., 0., 0., 0., 0., 0., 0., 0., 0., 1., 1., 0., 0., 0.,\n",
       "        1., 0., 0., 1., 0., 1., 1., 0., 0., 0., 0., 0., 0., 0., 1., 0., 0.,\n",
       "        0., 1., 1., 0., 0., 0., 0., 0., 0., 0., 0., 0., 0., 0., 0.]),\n",
       " 'knn': array([0.35890268, 0.93897218, 0.21249166, 0.        , 0.04178889,\n",
       "        0.16862363, 0.66291696, 0.        , 0.04595608, 0.        ,\n",
       "        0.41738783, 0.49431893, 0.1600643 , 1.        , 0.19535874,\n",
       "        1.        , 0.0453584 , 0.84836828, 0.08998545, 0.        ,\n",
       "        0.        , 0.        , 0.        , 0.39148557, 0.        ,\n",
       "        0.13672273, 0.62188846, 0.03416616, 0.14838294, 0.87340837,\n",
       "        0.16236208, 0.01287725, 0.03568098, 0.        , 0.        ,\n",
       "        0.        , 0.        , 0.03460853, 0.        , 0.0472603 ,\n",
       "        0.94756783, 0.        , 0.45704079, 0.04392814, 0.08899428,\n",
       "        0.16371723, 0.26346461, 0.35731335, 0.        , 0.04306106,\n",
       "        0.        , 0.28269526, 0.89320005, 1.        , 0.        ,\n",
       "        0.01932312, 0.58255899, 0.        , 0.00205553, 0.15653136,\n",
       "        0.        , 0.14300999, 0.04062018, 0.89493245, 0.14995175,\n",
       "        0.        , 0.10607991, 0.54781799, 0.62647545, 0.15986639,\n",
       "        0.        , 0.91036334, 0.        , 0.5997584 , 0.24856695,\n",
       "        0.05885731, 0.10943777, 0.        , 0.        , 0.        ,\n",
       "        0.48074549, 0.        , 0.95034972, 0.        , 0.        ,\n",
       "        0.03452378, 0.24782781, 0.21780255, 0.15130833, 0.        ,\n",
       "        0.        , 0.        , 0.        , 0.94910873, 0.        ,\n",
       "        0.16181451, 0.1672483 , 0.        , 0.17031599, 0.39152209]),\n",
       " 'svm': array([0.15198718, 0.92609557, 0.13468303, 0.04258005, 0.01673107,\n",
       "        0.07876231, 0.34104611, 0.06187155, 0.06188827, 0.04098732,\n",
       "        0.24101299, 0.53460374, 0.06184629, 0.99220416, 0.13455987,\n",
       "        0.92752167, 0.0262257 , 0.77032099, 0.09470618, 0.01214483,\n",
       "        0.03954059, 0.0421385 , 0.02357094, 0.42739071, 0.01784626,\n",
       "        0.08369831, 0.36934847, 0.03477576, 0.14995686, 0.90896684,\n",
       "        0.02430369, 0.06848044, 0.01992441, 0.03566035, 0.04364738,\n",
       "        0.01806372, 0.09208196, 0.03452065, 0.05669537, 0.06776416,\n",
       "        0.95711355, 0.02305368, 0.43867953, 0.07572504, 0.04522638,\n",
       "        0.02749186, 0.10606756, 0.76069094, 0.03381461, 0.03187754,\n",
       "        0.04216151, 0.14397074, 0.72192921, 0.97447002, 0.03378029,\n",
       "        0.10152861, 0.30046503, 0.02338324, 0.04664664, 0.07514602,\n",
       "        0.03356929, 0.0296147 , 0.01518813, 0.97096973, 0.15089685,\n",
       "        0.03176097, 0.05955071, 0.5       , 0.94291841, 0.44484008,\n",
       "        0.03386546, 0.97900444, 0.0569169 , 0.91845316, 0.66638647,\n",
       "        0.01602849, 0.08591644, 0.06832221, 0.01456258, 0.09206751,\n",
       "        0.5       , 0.02914696, 0.91365537, 0.02017327, 0.01876977,\n",
       "        0.04534825, 0.18093044, 0.13973751, 0.03706117, 0.0251592 ,\n",
       "        0.05601939, 0.07875243, 0.02222891, 0.81155497, 0.03532512,\n",
       "        0.29258002, 0.09715805, 0.01011629, 0.02958525, 0.26831658])}"
      ]
     },
     "execution_count": 6,
     "metadata": {},
     "output_type": "execute_result"
    }
   ],
   "source": [
    "proba_valid"
   ]
  },
  {
   "cell_type": "markdown",
   "id": "c30cd03f",
   "metadata": {},
   "source": [
    "## Elemento 3 - Ensambles de votación\n",
    "\n",
    "Se implementan funciones puras para:\n",
    "- **Votación dura**: mayoría sobre predicciones 0/1.\n",
    "- **Votación suave**: promedio de probabilidades `P(y=1|x)` y umbral 0.5.\n",
    "- **Votación ponderada**: promedio ponderado de probabilidades usando pesos ∝ exactitud en validación de cada modelo.\n"
   ]
  },
  {
   "cell_type": "code",
   "execution_count": 7,
   "id": "1360654f",
   "metadata": {},
   "outputs": [
    {
     "data": {
      "text/plain": [
       "{'tree': 0.98, 'svm': 0.92, 'logreg': 0.91, 'knn': 0.89}"
      ]
     },
     "execution_count": 7,
     "metadata": {},
     "output_type": "execute_result"
    }
   ],
   "source": [
    "import numpy as np\n",
    "\n",
    "def vote_hard(pred_dict):\n",
    "    base = list(pred_dict.values())\n",
    "    stacked = np.vstack(base).astype(int)\n",
    "    votes = stacked.sum(axis=0)\n",
    "    yhat  = (votes > (stacked.shape[0] / 2)).astype(int)\n",
    "    return yhat\n",
    "\n",
    "def vote_soft(proba_dict):\n",
    "    base = list(proba_dict.values())\n",
    "    stacked = np.vstack(base)  \n",
    "    avg = stacked.mean(axis=0)\n",
    "    return (avg >= 0.5).astype(int), avg\n",
    "\n",
    "def vote_weighted(proba_dict, weights):\n",
    "    keys = list(proba_dict.keys())\n",
    "    w = np.array([weights[k] for k in keys], dtype=float)\n",
    "    w = w / (w.sum() + 1e-12)\n",
    "    stacked = np.vstack([proba_dict[k] for k in keys])  \n",
    "    wavg = (w[:, None] * stacked).sum(axis=0)\n",
    "    return (wavg >= 0.5).astype(int), wavg\n",
    "\n",
    "# Pesos proporcionales a la exactitud en validación\n",
    "accs = {row[\"model\"]: row[\"accuracy\"] for _, row in metrics_df.iterrows()}\n",
    "accs\n"
   ]
  },
  {
   "cell_type": "markdown",
   "id": "c929da6a",
   "metadata": {},
   "source": [
    "## Elemento 4 - Evaluación y competencia\n",
    "\n",
    "Se muestran métricas: exactitud, precisión, recall y F1. Además, se grafica la matriz de confusión por votador.\n"
   ]
  },
  {
   "cell_type": "code",
   "execution_count": 8,
   "id": "846e6cdd",
   "metadata": {},
   "outputs": [
    {
     "data": {
      "text/markdown": [
       "### Métricas de votadores (validación)"
      ],
      "text/plain": [
       "<IPython.core.display.Markdown object>"
      ]
     },
     "metadata": {},
     "output_type": "display_data"
    },
    {
     "data": {
      "text/html": [
       "<div>\n",
       "<style scoped>\n",
       "    .dataframe tbody tr th:only-of-type {\n",
       "        vertical-align: middle;\n",
       "    }\n",
       "\n",
       "    .dataframe tbody tr th {\n",
       "        vertical-align: top;\n",
       "    }\n",
       "\n",
       "    .dataframe thead th {\n",
       "        text-align: right;\n",
       "    }\n",
       "</style>\n",
       "<table border=\"1\" class=\"dataframe\">\n",
       "  <thead>\n",
       "    <tr style=\"text-align: right;\">\n",
       "      <th></th>\n",
       "      <th>voter</th>\n",
       "      <th>accuracy</th>\n",
       "      <th>precision</th>\n",
       "      <th>recall</th>\n",
       "      <th>f1</th>\n",
       "    </tr>\n",
       "  </thead>\n",
       "  <tbody>\n",
       "    <tr>\n",
       "      <th>0</th>\n",
       "      <td>soft</td>\n",
       "      <td>0.96</td>\n",
       "      <td>1.0</td>\n",
       "      <td>0.84</td>\n",
       "      <td>0.913043</td>\n",
       "    </tr>\n",
       "    <tr>\n",
       "      <th>1</th>\n",
       "      <td>weighted</td>\n",
       "      <td>0.96</td>\n",
       "      <td>1.0</td>\n",
       "      <td>0.84</td>\n",
       "      <td>0.913043</td>\n",
       "    </tr>\n",
       "    <tr>\n",
       "      <th>2</th>\n",
       "      <td>hard</td>\n",
       "      <td>0.92</td>\n",
       "      <td>1.0</td>\n",
       "      <td>0.68</td>\n",
       "      <td>0.809524</td>\n",
       "    </tr>\n",
       "  </tbody>\n",
       "</table>\n",
       "</div>"
      ],
      "text/plain": [
       "      voter  accuracy  precision  recall        f1\n",
       "0      soft      0.96        1.0    0.84  0.913043\n",
       "1  weighted      0.96        1.0    0.84  0.913043\n",
       "2      hard      0.92        1.0    0.68  0.809524"
      ]
     },
     "metadata": {},
     "output_type": "display_data"
    },
    {
     "data": {
      "text/plain": [
       "<Figure size 640x480 with 0 Axes>"
      ]
     },
     "metadata": {},
     "output_type": "display_data"
    },
    {
     "data": {
      "image/png": "[encoded data removed]",
      "text/plain": [
       "<Figure size 640x480 with 1 Axes>"
      ]
     },
     "metadata": {},
     "output_type": "display_data"
    },
    {
     "data": {
      "text/plain": [
       "<Figure size 640x480 with 0 Axes>"
      ]
     },
     "metadata": {},
     "output_type": "display_data"
    },
    {
     "data": {
      "image/png": "[encoded data removed]",
      "text/plain": [
       "<Figure size 640x480 with 1 Axes>"
      ]
     },
     "metadata": {},
     "output_type": "display_data"
    },
    {
     "data": {
      "text/plain": [
       "<Figure size 640x480 with 0 Axes>"
      ]
     },
     "metadata": {},
     "output_type": "display_data"
    },
    {
     "data": {
      "image/png": "[encoded data removed]",
      "text/plain": [
       "<Figure size 640x480 with 1 Axes>"
      ]
     },
     "metadata": {},
     "output_type": "display_data"
    },
    {
     "data": {
      "text/html": [
       "<div>\n",
       "<style scoped>\n",
       "    .dataframe tbody tr th:only-of-type {\n",
       "        vertical-align: middle;\n",
       "    }\n",
       "\n",
       "    .dataframe tbody tr th {\n",
       "        vertical-align: top;\n",
       "    }\n",
       "\n",
       "    .dataframe thead th {\n",
       "        text-align: right;\n",
       "    }\n",
       "</style>\n",
       "<table border=\"1\" class=\"dataframe\">\n",
       "  <thead>\n",
       "    <tr style=\"text-align: right;\">\n",
       "      <th></th>\n",
       "      <th>voter</th>\n",
       "      <th>accuracy</th>\n",
       "      <th>precision</th>\n",
       "      <th>recall</th>\n",
       "      <th>f1</th>\n",
       "    </tr>\n",
       "  </thead>\n",
       "  <tbody>\n",
       "    <tr>\n",
       "      <th>0</th>\n",
       "      <td>soft</td>\n",
       "      <td>0.96</td>\n",
       "      <td>1.0</td>\n",
       "      <td>0.84</td>\n",
       "      <td>0.913043</td>\n",
       "    </tr>\n",
       "    <tr>\n",
       "      <th>1</th>\n",
       "      <td>weighted</td>\n",
       "      <td>0.96</td>\n",
       "      <td>1.0</td>\n",
       "      <td>0.84</td>\n",
       "      <td>0.913043</td>\n",
       "    </tr>\n",
       "    <tr>\n",
       "      <th>2</th>\n",
       "      <td>hard</td>\n",
       "      <td>0.92</td>\n",
       "      <td>1.0</td>\n",
       "      <td>0.68</td>\n",
       "      <td>0.809524</td>\n",
       "    </tr>\n",
       "  </tbody>\n",
       "</table>\n",
       "</div>"
      ],
      "text/plain": [
       "      voter  accuracy  precision  recall        f1\n",
       "0      soft      0.96        1.0    0.84  0.913043\n",
       "1  weighted      0.96        1.0    0.84  0.913043\n",
       "2      hard      0.92        1.0    0.68  0.809524"
      ]
     },
     "execution_count": 8,
     "metadata": {},
     "output_type": "execute_result"
    }
   ],
   "source": [
    "from sklearn.metrics import confusion_matrix, ConfusionMatrixDisplay\n",
    "import matplotlib.pyplot as plt\n",
    "\n",
    "yhat_hard = vote_hard(preds_valid)\n",
    "m_hard = eval_binary(y_valid, yhat_hard)\n",
    "\n",
    "yhat_soft, soft_scores = vote_soft(proba_valid)\n",
    "m_soft = eval_binary(y_valid, yhat_soft)\n",
    "\n",
    "yhat_w, w_scores = vote_weighted(proba_valid, accs)\n",
    "m_w = eval_binary(y_valid, yhat_w)\n",
    "\n",
    "ens_metrics = pd.DataFrame([\n",
    "    {\"voter\":\"hard\", **m_hard},\n",
    "    {\"voter\":\"soft\", **m_soft},\n",
    "    {\"voter\":\"weighted\", **m_w},\n",
    "]).sort_values(\"accuracy\", ascending=False).reset_index(drop=True)\n",
    "\n",
    "from IPython.display import display, Markdown\n",
    "\n",
    "display(Markdown(\"### Métricas de votadores (validación)\"))\n",
    "display(ens_metrics)\n",
    "\n",
    "\n",
    "for voter_name, yhat in [(\"hard\", yhat_hard), (\"soft\", yhat_soft), (\"weighted\", yhat_w)]:\n",
    "    cm = confusion_matrix(y_valid, yhat)\n",
    "    disp = ConfusionMatrixDisplay(confusion_matrix=cm)\n",
    "    plt.figure()\n",
    "    disp.plot(values_format='d', colorbar=False)  \n",
    "    plt.title(f\"Matriz de confusión — {voter_name}\")\n",
    "    plt.show()\n",
    "\n",
    "ens_metrics\n"
   ]
  },
  {
   "cell_type": "code",
   "execution_count": 9,
   "id": "d91b6872",
   "metadata": {},
   "outputs": [
    {
     "data": {
      "text/html": [
       "<div>\n",
       "<style scoped>\n",
       "    .dataframe tbody tr th:only-of-type {\n",
       "        vertical-align: middle;\n",
       "    }\n",
       "\n",
       "    .dataframe tbody tr th {\n",
       "        vertical-align: top;\n",
       "    }\n",
       "\n",
       "    .dataframe thead th {\n",
       "        text-align: right;\n",
       "    }\n",
       "</style>\n",
       "<table border=\"1\" class=\"dataframe\">\n",
       "  <thead>\n",
       "    <tr style=\"text-align: right;\">\n",
       "      <th></th>\n",
       "      <th>voter</th>\n",
       "      <th>accuracy</th>\n",
       "      <th>precision</th>\n",
       "      <th>recall</th>\n",
       "      <th>f1</th>\n",
       "    </tr>\n",
       "  </thead>\n",
       "  <tbody>\n",
       "    <tr>\n",
       "      <th>0</th>\n",
       "      <td>soft</td>\n",
       "      <td>0.96</td>\n",
       "      <td>1.0</td>\n",
       "      <td>0.84</td>\n",
       "      <td>0.913043</td>\n",
       "    </tr>\n",
       "    <tr>\n",
       "      <th>1</th>\n",
       "      <td>weighted</td>\n",
       "      <td>0.96</td>\n",
       "      <td>1.0</td>\n",
       "      <td>0.84</td>\n",
       "      <td>0.913043</td>\n",
       "    </tr>\n",
       "    <tr>\n",
       "      <th>2</th>\n",
       "      <td>hard</td>\n",
       "      <td>0.92</td>\n",
       "      <td>1.0</td>\n",
       "      <td>0.68</td>\n",
       "      <td>0.809524</td>\n",
       "    </tr>\n",
       "  </tbody>\n",
       "</table>\n",
       "</div>"
      ],
      "text/plain": [
       "      voter  accuracy  precision  recall        f1\n",
       "0      soft      0.96        1.0    0.84  0.913043\n",
       "1  weighted      0.96        1.0    0.84  0.913043\n",
       "2      hard      0.92        1.0    0.68  0.809524"
      ]
     },
     "execution_count": 9,
     "metadata": {},
     "output_type": "execute_result"
    }
   ],
   "source": [
    "ens_metrics"
   ]
  },
  {
   "cell_type": "markdown",
   "id": "fcdd641b",
   "metadata": {},
   "source": [
    "\n",
    "## Reentrenar en todo el set de entrenamiento\n",
    "\n",
    "Tras seleccionar el votador final, reentrenamos cada modelo base en **todo el train** (train+valid) para aprovechar al máximo los datos.\n"
   ]
  },
  {
   "cell_type": "code",
   "execution_count": 11,
   "id": "53b2a55b",
   "metadata": {},
   "outputs": [
    {
     "name": "stdout",
     "output_type": "stream",
     "text": [
      "Modelos reentrenados en todo el dataset de entrenamiento.\n"
     ]
    }
   ],
   "source": [
    "for name, pipe in models.items():\n",
    "    pipe.fit(X, y)\n",
    "print(\"Modelos reentrenados en todo el dataset de entrenamiento.\")\n"
   ]
  },
  {
   "cell_type": "markdown",
   "id": "8a2f99dc",
   "metadata": {},
   "source": [
    "\n",
    "## Predicción sobre el test set y archivo de competencia\n",
    "\n",
    "Generamos el archivo:  \n",
    "`id,y_pred,EquipoNombre,VotacionTipo` en la primera fila y las filas siguientes solo con `id,y_pred`.\n"
   ]
  },
  {
   "cell_type": "code",
   "execution_count": 12,
   "id": "24d14ca8",
   "metadata": {},
   "outputs": [
    {
     "name": "stdout",
     "output_type": "stream",
     "text": [
      "Archivo de competencia escrito en: predicciones_competencia.csv\n"
     ]
    },
    {
     "data": {
      "text/plain": [
       "WindowsPath('predicciones_competencia.csv')"
      ]
     },
     "execution_count": 12,
     "metadata": {},
     "output_type": "execute_result"
    }
   ],
   "source": [
    "test_df = pd.read_csv(DATASET_TEST_CSV)\n",
    "\n",
    "test_id_col = \"id\" if \"id\" in test_df.columns else None\n",
    "if test_id_col is None:\n",
    "    test_ids = np.arange(len(test_df))\n",
    "else:\n",
    "    test_ids = test_df[test_id_col].values\n",
    "\n",
    "missing_cols_test = [c for c in [\"height\",\"weight\",\"base_experience\",\"primary_type\"] if c not in test_df.columns]\n",
    "if missing_cols_test:\n",
    "    raise ValueError(f\"Faltan columnas en el dataset de test: {missing_cols_test}\")\n",
    "\n",
    "X_test = test_df[[\"height\",\"weight\",\"base_experience\",\"primary_type\"]].copy()\n",
    "\n",
    "preds_test = {}\n",
    "proba_test = {}\n",
    "for name, pipe in models.items():\n",
    "    yp = pipe.predict(X_test)\n",
    "    preds_test[name] = yp\n",
    "    if hasattr(pipe.named_steps[\"clf\"], \"predict_proba\"):\n",
    "        proba_test[name] = pipe.predict_proba(X_test)[:, 1]\n",
    "    else:\n",
    "        proba_test[name] = yp.astype(float)\n",
    "\n",
    "VOTER_NAME = VOTER_NAME.strip()\n",
    "\n",
    "if VOTER_NAME.lower() == \"votaciondura\":\n",
    "    y_pred_final = vote_hard(preds_test)\n",
    "elif VOTER_NAME.lower() == \"votacionsuave\":\n",
    "    y_pred_final, _ = vote_soft(proba_test)\n",
    "elif VOTER_NAME.lower() == \"votacionponderada\":\n",
    "    y_pred_final, _ = vote_weighted(proba_test, accs)\n",
    "else:\n",
    "    raise ValueError(\"VOTER_NAME inválido. Usa: VotacionDura, VotacionSuave o VotacionPonderada\")\n",
    "\n",
    "# Archivo de competencia\n",
    "import csv\n",
    "out_path = Path(\"predicciones_competencia.csv\")\n",
    "with open(out_path, \"w\", newline=\"\") as f:\n",
    "    writer = csv.writer(f)\n",
    "    writer.writerow([\"id\", \"y_pred\", TEAM_NAME, VOTER_NAME])\n",
    "    for i, (rid, yhat) in enumerate(zip(test_ids, y_pred_final)):\n",
    "        writer.writerow([rid, int(yhat), \"\", \"\"])\n",
    "\n",
    "print(f\"Archivo de competencia escrito en: {out_path}\")\n",
    "out_path\n"
   ]
  },
  {
   "cell_type": "code",
   "execution_count": 13,
   "id": "0796ede1",
   "metadata": {},
   "outputs": [
    {
     "data": {
      "text/html": [
       "<div>\n",
       "<style scoped>\n",
       "    .dataframe tbody tr th:only-of-type {\n",
       "        vertical-align: middle;\n",
       "    }\n",
       "\n",
       "    .dataframe tbody tr th {\n",
       "        vertical-align: top;\n",
       "    }\n",
       "\n",
       "    .dataframe thead th {\n",
       "        text-align: right;\n",
       "    }\n",
       "</style>\n",
       "<table border=\"1\" class=\"dataframe\">\n",
       "  <thead>\n",
       "    <tr style=\"text-align: right;\">\n",
       "      <th></th>\n",
       "      <th>id</th>\n",
       "      <th>y_pred</th>\n",
       "      <th>Charmander</th>\n",
       "      <th>VotacionPonderada</th>\n",
       "    </tr>\n",
       "  </thead>\n",
       "  <tbody>\n",
       "    <tr>\n",
       "      <th>0</th>\n",
       "      <td>894</td>\n",
       "      <td>1</td>\n",
       "      <td>NaN</td>\n",
       "      <td>NaN</td>\n",
       "    </tr>\n",
       "    <tr>\n",
       "      <th>1</th>\n",
       "      <td>981</td>\n",
       "      <td>1</td>\n",
       "      <td>NaN</td>\n",
       "      <td>NaN</td>\n",
       "    </tr>\n",
       "    <tr>\n",
       "      <th>2</th>\n",
       "      <td>755</td>\n",
       "      <td>0</td>\n",
       "      <td>NaN</td>\n",
       "      <td>NaN</td>\n",
       "    </tr>\n",
       "    <tr>\n",
       "      <th>3</th>\n",
       "      <td>73</td>\n",
       "      <td>1</td>\n",
       "      <td>NaN</td>\n",
       "      <td>NaN</td>\n",
       "    </tr>\n",
       "    <tr>\n",
       "      <th>4</th>\n",
       "      <td>931</td>\n",
       "      <td>0</td>\n",
       "      <td>NaN</td>\n",
       "      <td>NaN</td>\n",
       "    </tr>\n",
       "  </tbody>\n",
       "</table>\n",
       "</div>"
      ],
      "text/plain": [
       "    id  y_pred  Charmander  VotacionPonderada\n",
       "0  894       1         NaN                NaN\n",
       "1  981       1         NaN                NaN\n",
       "2  755       0         NaN                NaN\n",
       "3   73       1         NaN                NaN\n",
       "4  931       0         NaN                NaN"
      ]
     },
     "execution_count": 13,
     "metadata": {},
     "output_type": "execute_result"
    }
   ],
   "source": [
    "output = pd.read_csv(\"predicciones_competencia.csv\")\n",
    "output.head()"
   ]
  }
 ],
 "metadata": {
  "kernelspec": {
   "display_name": "env (3.12.1)",
   "language": "python",
   "name": "python3"
  },
  "language_info": {
   "codemirror_mode": {
    "name": "ipython",
    "version": 3
   },
   "file_extension": ".py",
   "mimetype": "text/x-python",
   "name": "python",
   "nbconvert_exporter": "python",
   "pygments_lexer": "ipython3",
   "version": "3.12.1"
  }
 },
 "nbformat": 4,
 "nbformat_minor": 5
}
