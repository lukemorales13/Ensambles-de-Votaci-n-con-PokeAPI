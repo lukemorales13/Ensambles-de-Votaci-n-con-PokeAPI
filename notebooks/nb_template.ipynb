{
 "cells": [
  {
   "cell_type": "markdown",
   "id": "848153e3",
   "metadata": {},
   "source": [
    "# Laboratorio 7: Poke-ensambles\n",
    "\n",
    "**Duración:** 2 horas  \n",
    "**Formato:** Competencia por equipos con rotaciones y\n",
    "kahoots Pokemon  \n",
    "**Repositorio base:** [_link al repo oficial_](https://github.com/JAlbertoAlonso/poke-ensambles/tree/main)\n",
    "\n",
    "---\n",
    "\n",
    "## Portada del equipo\n",
    "\n",
    "**Integrantes:**\n",
    "- Nombre 1 (Usuario GitHub)\n",
    "- Nombre 2 (Usuario GitHub)\n",
    "- Nombre 3 (Usuario GitHub)\n",
    "\n",
    "**Repositorio del equipo:**  \n",
    "<https://github.com/usuario/equipoX>\n",
    "\n",
    "**Fecha de entrega:**  \n",
    "__/__/____"
   ]
  },
  {
   "cell_type": "markdown",
   "id": "067997e4",
   "metadata": {},
   "source": [
    "## Elemento 1 - Construcción del dataset (Infraestructura)"
   ]
  },
  {
   "cell_type": "code",
   "execution_count": null,
   "id": "a61f306a",
   "metadata": {
    "vscode": {
     "languageId": "plaintext"
    }
   },
   "outputs": [],
   "source": []
  },
  {
   "cell_type": "markdown",
   "id": "eda7bbcd",
   "metadata": {},
   "source": [
    "## Elemento 2 - Entrenamiento de modelos base (Modelado)"
   ]
  },
  {
   "cell_type": "code",
   "execution_count": null,
   "id": "81cab4b2",
   "metadata": {
    "vscode": {
     "languageId": "plaintext"
    }
   },
   "outputs": [],
   "source": []
  },
  {
   "cell_type": "markdown",
   "id": "1017feed",
   "metadata": {},
   "source": [
    "## Elemento 3 - Ensambles de votación"
   ]
  },
  {
   "cell_type": "code",
   "execution_count": null,
   "id": "09eb4078",
   "metadata": {
    "vscode": {
     "languageId": "plaintext"
    }
   },
   "outputs": [],
   "source": []
  },
  {
   "cell_type": "markdown",
   "id": "bd8832f4",
   "metadata": {},
   "source": [
    "## Elemento 4 - Evaluación y competencia"
   ]
  },
  {
   "cell_type": "code",
   "execution_count": null,
   "id": "ef43827a",
   "metadata": {
    "vscode": {
     "languageId": "plaintext"
    }
   },
   "outputs": [],
   "source": []
  },
  {
   "cell_type": "markdown",
   "id": "3eba8623",
   "metadata": {},
   "source": [
    "## Cuestionario teórico"
   ]
  },
  {
   "cell_type": "markdown",
   "id": "a6c4fb79",
   "metadata": {},
   "source": []
  }
 ],
 "metadata": {
  "language_info": {
   "name": "python"
  }
 },
 "nbformat": 4,
 "nbformat_minor": 5
}
